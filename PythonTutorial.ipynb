{
    "metadata": {
        "kernelspec": {
            "name": "python3",
            "display_name": "Python 3 (ipykernel)",
            "language": "python"
        }
    },
    "nbformat": 4,
    "nbformat_minor": 2,
    "cells": [
        {
            "attachments": {},
            "cell_type": "markdown",
            "metadata": {},
            "source": [
                "To run the code in individual sections, hover the mouse on the left side of the code space and click the *play/run* button.\n",
                "You can also use keys *\"Shift + Return\"*"
            ]
        },
        {
            "cell_type": "code",
            "execution_count": 8,
            "metadata": {},
            "outputs": [
                {
                    "name": "stdout",
                    "output_type": "stream",
                    "text": "Hello World\n"
                }
            ],
            "source": [
                "print(\"Hello World\")"
            ]
        },
        {
            "attachments": {},
            "cell_type": "markdown",
            "metadata": {},
            "source": [
                "# **Variables**"
            ]
        },
        {
            "cell_type": "code",
            "execution_count": 9,
            "metadata": {},
            "outputs": [
                {
                    "name": "stdout",
                    "output_type": "stream",
                    "text": "20\n"
                }
            ],
            "source": [
                "age = 20\n",
                "print(age)"
            ]
        },
        {
            "attachments": {},
            "cell_type": "markdown",
            "metadata": {},
            "source": [
                "*Practice*: Change the value of age and print it out in the following space."
            ]
        },
        {
            "cell_type": "code",
            "execution_count": 22,
            "metadata": {},
            "outputs": [
                {
                    "name": "stdout",
                    "output_type": "stream",
                    "text": "31\n"
                }
            ],
            "source": [
                "age = 31\n",
                "print(age)"
            ]
        },
        {
            "attachments": {},
            "cell_type": "markdown",
            "metadata": {},
            "source": [
                "Deep Dive: different **types** of variables."
            ]
        },
        {
            "cell_type": "code",
            "execution_count": 11,
            "metadata": {},
            "outputs": [
                {
                    "name": "stdout",
                    "output_type": "stream",
                    "text": "Mr. Doe is 20 years old\n"
                }
            ],
            "source": [
                "age = 20\n",
                "price = 19.99 \n",
                "first_name = \"Mr. Doe\"\n",
                "is_online = True\n",
                "print(first_name + \" is \" + str(age) + \" years old\")"
            ]
        },
        {
            "attachments": {},
            "cell_type": "markdown",
            "metadata": {},
            "source": [
                "*Exercise*: Check in a new patient named James Smith, who is 20 years old."
            ]
        },
        {
            "cell_type": "code",
            "execution_count": 23,
            "metadata": {},
            "outputs": [
                {
                    "name": "stdout",
                    "output_type": "stream",
                    "text": "James Smith is 20 years old\n"
                }
            ],
            "source": [
                "age = 20\n",
                "price = 350\n",
                "first_name=\"James\"\n",
                "last_name=\"Smith\"\n",
                "print(first_name+\" \"+last_name+\" is \"+str(age)+ \" years old\")\n",
                ""
            ]
        },
        {
            "attachments": {},
            "cell_type": "markdown",
            "metadata": {},
            "source": [
                "**Input**"
            ]
        },
        {
            "cell_type": "code",
            "execution_count": 13,
            "metadata": {},
            "outputs": [],
            "source": [
                "name = input(\"what is your name\")\n",
                "print(\"Hello \" + name)"
            ]
        },
        {
            "attachments": {},
            "cell_type": "markdown",
            "metadata": {},
            "source": [
                "**Type conversion**"
            ]
        },
        {
            "attachments": {},
            "cell_type": "markdown",
            "metadata": {},
            "source": [
                "1. Error: the input is read in as a string, which cannot be operated on with a number."
            ]
        },
        {
            "cell_type": "code",
            "execution_count": 7,
            "metadata": {},
            "outputs": [
                {
                    "ename": "TypeError",
                    "evalue": "unsupported operand type(s) for -: 'int' and 'str'",
                    "output_type": "error",
                    "traceback": [
                        "\u001b[0;31m---------------------------------------------------------------------------\u001b[0m",
                        "\u001b[0;31mTypeError\u001b[0m                                 Traceback (most recent call last)",
                        "\u001b[0;32m/tmp/ipykernel_32/1348626306.py\u001b[0m in \u001b[0;36m\u003cmodule\u003e\u001b[0;34m\u001b[0m\n\u001b[1;32m      1\u001b[0m \u001b[0mbirth_year\u001b[0m \u001b[0;34m=\u001b[0m \u001b[0minput\u001b[0m\u001b[0;34m(\u001b[0m\u001b[0;34m\"Enter your birth year\"\u001b[0m\u001b[0;34m)\u001b[0m\u001b[0;34m\u001b[0m\u001b[0;34m\u001b[0m\u001b[0m\n\u001b[0;32m----\u003e 2\u001b[0;31m \u001b[0mage\u001b[0m \u001b[0;34m=\u001b[0m \u001b[0;36m2021\u001b[0m \u001b[0;34m-\u001b[0m \u001b[0mbirth_year\u001b[0m\u001b[0;34m\u001b[0m\u001b[0;34m\u001b[0m\u001b[0m\n\u001b[0m\u001b[1;32m      3\u001b[0m \u001b[0mprint\u001b[0m \u001b[0;34m(\u001b[0m\u001b[0mage\u001b[0m\u001b[0;34m)\u001b[0m\u001b[0;34m\u001b[0m\u001b[0;34m\u001b[0m\u001b[0m\n",
                        "\u001b[0;31mTypeError\u001b[0m: unsupported operand type(s) for -: 'int' and 'str'"
                    ]
                }
            ],
            "source": [
                "birth_year = input(\"Enter your birth year\")\n",
                "age = 2021 - birth_year\n",
                "print (age)"
            ]
        },
        {
            "attachments": {},
            "cell_type": "markdown",
            "metadata": {},
            "source": [
                "Fixing the code: convert string input to integer"
            ]
        },
        {
            "cell_type": "code",
            "execution_count": 5,
            "metadata": {},
            "outputs": [],
            "source": [
                "birth_year = input(\"Enter your birth year\")\n",
                "age = 2021 - int(birth_year)\n",
                "print (age)"
            ]
        },
        {
            "attachments": {},
            "cell_type": "markdown",
            "metadata": {},
            "source": [
                "Exercise: Basic calculator. Adding two numbers"
            ]
        },
        {
            "cell_type": "code",
            "execution_count": 25,
            "metadata": {},
            "outputs": [
                {
                    "name": "stdout",
                    "output_type": "stream",
                    "text": "55\n"
                }
            ],
            "source": [
                "taco=25\n",
                "taco2=30\n",
                "print(taco+taco2)"
            ]
        },
        {
            "cell_type": "code",
            "execution_count": 26,
            "metadata": {},
            "outputs": [
                {
                    "name": "stdout",
                    "output_type": "stream",
                    "text": "55.5\n"
                }
            ],
            "source": [
                "taco3=33.5\n",
                "taco4=22\n",
                "print(float(taco4)+taco3)"
            ]
        },
        {
            "attachments": {},
            "cell_type": "markdown",
            "metadata": {},
            "source": [
                "**Strings**"
            ]
        },
        {
            "cell_type": "code",
            "execution_count": 75,
            "metadata": {},
            "outputs": [
                {
                    "name": "stdout",
                    "output_type": "stream",
                    "text": "1\n"
                }
            ],
            "source": [
                "# The string class contains a lot of built-in methods\n",
                "course = 'Discover AI'\n",
                "print(course.find('i'))"
            ]
        },
        {
            "attachments": {},
            "cell_type": "markdown",
            "metadata": {},
            "source": [
                "# **Operators**"
            ]
        },
        {
            "attachments": {},
            "cell_type": "markdown",
            "metadata": {},
            "source": [
                "1. Arthmetic Operators"
            ]
        },
        {
            "cell_type": "code",
            "execution_count": 5,
            "metadata": {},
            "outputs": [],
            "source": [
                "# Addition\n",
                "print(\"10 + 3 = \" + str(10 + 3))\n",
                "\n",
                "# Subtraction\n",
                "print(\"10 - 3 = \" + str(10 - 3))\n",
                "\n",
                "# Multiplication\n",
                "print(\"10 * 3 = \" + str(10 * 3))\n",
                "\n",
                "# Division\n",
                "print(\"10 / 3 = \" + str(10 / 3))\n",
                "\n",
                "# Division with integer\n",
                "print(\"10 //3 = \" + str(10 // 3))\n",
                "\n",
                "# Modulus \n",
                "print(\"10 % 3 = \" + str(10 % 3))\n",
                "\n",
                "# Exponent\n",
                "print(\"10 ** 3 = \" + str(10 ** 3))"
            ]
        },
        {
            "cell_type": "code",
            "execution_count": 3,
            "metadata": {},
            "outputs": [],
            "source": [
                "# Augmented operators\n",
                "x = 10\n",
                "x += 3\n",
                "print(x)"
            ]
        },
        {
            "attachments": {},
            "cell_type": "markdown",
            "metadata": {},
            "source": [
                "Operator Precedence"
            ]
        },
        {
            "cell_type": "code",
            "execution_count": 0,
            "metadata": {},
            "outputs": [],
            "source": [
                "x = 10 + 3 * 2\n",
                "print (x)"
            ]
        },
        {
            "attachments": {},
            "cell_type": "markdown",
            "metadata": {},
            "source": [
                "2. Comparison Operators"
            ]
        },
        {
            "cell_type": "code",
            "execution_count": 7,
            "metadata": {},
            "outputs": [],
            "source": [
                "# They return boolean (True/False) solutions\n",
                "\n",
                "# Greater than\n",
                "print(\"10 \u003e 3: \" + str(10 \u003e 3))\n",
                "# Greater than or equal to\n",
                "print(\"3 \u003e= 3: \" + str(10 \u003e= 3))\n",
                "# Less than\n",
                "print(\"10 \u003c 3: \" + str(10 \u003c 3))\n",
                "# Less than or equal to\n",
                "print(\"10 \u003c= 3: \" + str(10 \u003c= 3))\n",
                "# Equal\n",
                "print(\"10 == 3: \" + str(10 == 3))\n",
                "# Not equal\n",
                "print(\"10 != 3: \" + str(10 != 3))\n",
                ""
            ]
        },
        {
            "attachments": {},
            "cell_type": "markdown",
            "metadata": {},
            "source": [
                "4. Logical Operators"
            ]
        },
        {
            "cell_type": "code",
            "execution_count": 76,
            "metadata": {},
            "outputs": [
                {
                    "name": "stdout",
                    "output_type": "stream",
                    "text": "Price between 10 and 30: True\nPrice is either 10 or 30: False\nPrice is less than 30: False\n"
                }
            ],
            "source": [
                "# Used for building complex rules and conditions\n",
                "\n",
                "# Using \"and\" check that a price is between two values\n",
                "price = 25\n",
                "print(\"Price between 10 and 30: \" + str(price \u003e 10 and price \u003c 30))\n",
                "\n",
                "# Using \"or\" check that a price is either of two values\n",
                "price = 25\n",
                "print(\"Price is either 10 or 30: \" + str(price == 10 or price == 30))\n",
                "\n",
                "# Using \"not\" check that a price is less than a value\n",
                "price = 25\n",
                "print(\"Price is less than 30: \" + str(not price \u003c 30))"
            ]
        },
        {
            "attachments": {},
            "cell_type": "markdown",
            "metadata": {},
            "source": [
                "# **If Statements**"
            ]
        },
        {
            "cell_type": "code",
            "execution_count": 3,
            "metadata": {},
            "outputs": [],
            "source": [
                "# Used to make decisions\n",
                "\n",
                "# Print a message if the temperature is \u003e 30\n",
                "temperature = 35\n",
                "if(temperature \u003e 30):\n",
                "    print(\"It's a hot day\")\n",
                "    print(\"Drink plenty of water\")\n",
                "# Everything below will be outside of the conditional statement\n",
                "print (\"Done\")"
            ]
        },
        {
            "attachments": {},
            "cell_type": "markdown",
            "metadata": {},
            "source": [
                "*Practice* Add a condition for printing \"It's a nice day\" if the temperature is between 20 and 30"
            ]
        },
        {
            "cell_type": "code",
            "execution_count": 30,
            "metadata": {},
            "outputs": [
                {
                    "name": "stdout",
                    "output_type": "stream",
                    "text": "It's a hot day\nDrink plenty of water\n"
                }
            ],
            "source": [
                "temperature = 31\n",
                "if (temperature\u003e20):\n",
                "    if(temperature\u003c30):\n",
                "        print(\"It's a nice day\")\n",
                "if(temperature \u003e 30):\n",
                "    print(\"It's a hot day\")\n",
                "    print(\"Drink plenty of water\")"
            ]
        },
        {
            "attachments": {},
            "cell_type": "markdown",
            "metadata": {},
            "source": [
                "**Exercise**\n",
                "\n",
                "* Get weight as input\n",
                "* Get unit as input (Kgs or Lbs)\n",
                "* Display weight converted to the opposite unit\n",
                "\n",
                ""
            ]
        },
        {
            "cell_type": "code",
            "execution_count": 21,
            "metadata": {},
            "outputs": [
                {
                    "name": "stdout",
                    "output_type": "stream",
                    "text": "90.71858188712795\n"
                }
            ],
            "source": [
                "weight = input(\"Enter your Weight\")\n",
                "unit = input(\"Enter Kgs or Lbs\")\n",
                "KgstoLbs= float (weight)*2.20462\n",
                "LbstoKgs= float (weight)/2.20462\n",
                "if (unit == \"Kgs\"):\n",
                "    print(KgstoLbs)\n",
                "if (unit == \"Lbs\"):\n",
                "    print(LbstoKgs)"
            ]
        },
        {
            "attachments": {},
            "cell_type": "markdown",
            "metadata": {},
            "source": [
                "# **Loops**"
            ]
        },
        {
            "cell_type": "code",
            "execution_count": 10,
            "metadata": {},
            "outputs": [],
            "source": [
                "i = 1\n",
                "while i \u003c= 1000:\n",
                "    print(i)\n",
                "    i = i + 1\n",
                ""
            ]
        },
        {
            "attachments": {},
            "cell_type": "markdown",
            "metadata": {},
            "source": [
                "# **Lists**"
            ]
        },
        {
            "cell_type": "code",
            "execution_count": 43,
            "metadata": {},
            "outputs": [
                {
                    "name": "stdout",
                    "output_type": "stream",
                    "text": "Jane John Mary\n['Ian', 'Jane', 'John', 'Mary', 'Sam', 'Safi']\n"
                }
            ],
            "source": [
                "# list of names\n",
                "names = [\"Jane\", \"John\", \"Mary\", \"Sam\", \"Safi\"]\n",
                "print(names[0],names[1],names[2])\n",
                "\n",
                "# print the first three names\n",
                "names.insert(0,\"Ian\")\n",
                "print(names)\n",
                "# Add a name at the head of the list"
            ]
        },
        {
            "attachments": {},
            "cell_type": "markdown",
            "metadata": {},
            "source": [
                "List methods"
            ]
        },
        {
            "cell_type": "code",
            "execution_count": 68,
            "metadata": {},
            "outputs": [
                {
                    "name": "stdout",
                    "output_type": "stream",
                    "text": "[1, 2, 6, 4, 5, 10, 11, [7, 8, 9, 10]]\n[0, 1, 2, 6, 4, 5, 10, 11, [7, 8, 9, 10]]\n[0, 1, 2, 4, 5, 10, 11, [7, 8, 9, 10]]\nTrue\n8\n"
                }
            ],
            "source": [
                "numbers = [1, 2, 6, 4, 5, 10,11]\n",
                "# Append\n",
                "x =[7,8,9,10]\n",
                "numbers.append(x)\n",
                "print(numbers)\n",
                "# Insert\n",
                "numbers.insert(0,0)\n",
                "print(numbers)\n",
                "# Remove\n",
                "numbers.remove(6)\n",
                "print(numbers)\n",
                "# Clear\n",
                "#numbers.clear()\n",
                "#print(numbers)\n",
                "# In \n",
                "print(10 in numbers)\n",
                "# Len\n",
                "print (len(numbers))"
            ]
        },
        {
            "attachments": {},
            "cell_type": "markdown",
            "metadata": {},
            "source": [
                "## **For Loops**"
            ]
        },
        {
            "cell_type": "code",
            "execution_count": 70,
            "metadata": {},
            "outputs": [
                {
                    "name": "stdout",
                    "output_type": "stream",
                    "text": "1\n2\n3\n4\n5\n"
                }
            ],
            "source": [
                "numbers = [1, 2, 3, 4, 5,]\n",
                "for item in numbers:\n",
                "    print (item)"
            ]
        },
        {
            "attachments": {},
            "cell_type": "markdown",
            "metadata": {},
            "source": [
                "**Range function**"
            ]
        },
        {
            "cell_type": "code",
            "execution_count": 69,
            "metadata": {},
            "outputs": [
                {
                    "name": "stdout",
                    "output_type": "stream",
                    "text": "0\n1\n2\n3\n4\n"
                }
            ],
            "source": [
                "# The function can have 1 to 3 arguments.\n",
                "\n",
                "# 1. generate numbers up to a value\n",
                "numbers = range(5)\n",
                "for number in numbers:\n",
                "    print(number)"
            ]
        },
        {
            "attachments": {},
            "cell_type": "markdown",
            "metadata": {},
            "source": [
                "**Tuples**"
            ]
        },
        {
            "cell_type": "code",
            "execution_count": 74,
            "metadata": {},
            "outputs": [],
            "source": [
                "# Immutable (unchangeable) elements\n",
                "numbers = (1, 2, 3)"
            ]
        },
        {
            "cell_type": "code",
            "execution_count": 71,
            "metadata": {},
            "outputs": [],
            "source": [
                ""
            ]
        }
    ]
}
